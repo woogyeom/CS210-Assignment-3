{
 "cells": [
  {
   "cell_type": "code",
   "execution_count": 1,
   "id": "dfa1d7b8",
   "metadata": {},
   "outputs": [],
   "source": [
    "import pandas as pd\n",
    "df = pd.read_excel(\"GooglePlaystore.xlsx\")"
   ]
  },
  {
   "cell_type": "code",
   "execution_count": 2,
   "id": "c2af5a5a",
   "metadata": {},
   "outputs": [],
   "source": [
    "outlier_index = df[df[\"Reviews\"] == \"3.0M\"].index\n",
    "df = df.drop(outlier_index)"
   ]
  },
  {
   "cell_type": "code",
   "execution_count": 3,
   "id": "6885a5d4",
   "metadata": {},
   "outputs": [],
   "source": [
    "varies_with_device_index = df[df.eq(\"Varies with device\").any(axis=1)].index\n",
    "df = df.drop(varies_with_device_index)"
   ]
  },
  {
   "cell_type": "code",
   "execution_count": 4,
   "id": "7f1bbf58",
   "metadata": {},
   "outputs": [],
   "source": [
    "df['Android Ver'] = df['Android Ver'].str.replace(r'\\s+and\\s+up|\\s+\\-\\s+\\d+(\\.\\d+)*', '').str.extract(r'(\\d+(\\.\\d+)?)').astype(float)[0]"
   ]
  },
  {
   "cell_type": "code",
   "execution_count": 5,
   "id": "13350b1c",
   "metadata": {},
   "outputs": [],
   "source": [
    "df['Installs'] = df['Installs'].str.replace(',', '').str.rstrip('+').astype('int64')\n",
    "df = df[df['Installs'].apply(lambda x: isinstance(x, int))]"
   ]
  },
  {
   "cell_type": "code",
   "execution_count": 6,
   "id": "79d5ee1e",
   "metadata": {},
   "outputs": [],
   "source": [
    "missing_rating_mask = df['Rating'].isnull() & (df['Reviews'] < 100) & (df['Installs'] < 50000)\n",
    "df = df[~missing_rating_mask]"
   ]
  },
  {
   "cell_type": "code",
   "execution_count": 7,
   "id": "2d0b0657",
   "metadata": {},
   "outputs": [],
   "source": [
    "average_rating_by_category = df.groupby('Category')['Rating'].transform('mean')\n",
    "df['Rating'] = df['Rating'].fillna(average_rating_by_category.round(2))"
   ]
  },
  {
   "cell_type": "code",
   "execution_count": 8,
   "id": "e6fae8bc",
   "metadata": {},
   "outputs": [],
   "source": [
    "df['Size'] = df['Size'].str.replace('M', 'e6').str.replace('k', 'e3').str.replace(r'[^\\d\\.]', '', regex=True).astype(float).astype(int)"
   ]
  },
  {
   "cell_type": "code",
   "execution_count": 9,
   "id": "401a7cf2",
   "metadata": {},
   "outputs": [],
   "source": [
    "df.to_excel(\"result1.xlsx\", index=False)"
   ]
  }
 ],
 "metadata": {
  "kernelspec": {
   "display_name": "Python 3",
   "language": "python",
   "name": "python3"
  },
  "language_info": {
   "codemirror_mode": {
    "name": "ipython",
    "version": 3
   },
   "file_extension": ".py",
   "mimetype": "text/x-python",
   "name": "python",
   "nbconvert_exporter": "python",
   "pygments_lexer": "ipython3",
   "version": "3.12.1"
  }
 },
 "nbformat": 4,
 "nbformat_minor": 5
}
